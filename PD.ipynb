{
 "cells": [
  {
   "cell_type": "code",
   "execution_count": 24,
   "metadata": {},
   "outputs": [
    {
     "name": "stdout",
     "output_type": "stream",
     "text": [
      "['5', '10', '2', '2', '3', '1', '2']\n",
      "5\n",
      "[['10', '2', '2'], ['3', '1', '2']]\n"
     ]
    }
   ],
   "source": [
    "def chunk_list(data_list, chunk_size):\n",
    "    n = max(1, chunk_size)\n",
    "    return (data_list[i:i+chunk_size] for i in range(0, len(data_list), chunk_size))\n",
    "\n",
    "with open('input.csv', 'r') as input_file:\n",
    "    data = input_file.read()\n",
    "    data_list = data.split()\n",
    "    \n",
    "    n = data_list[0]\n",
    "    graph_data = chunk_list(data_list[1:], 3)\n",
    "\n",
    "    print(data_list)\n",
    "    print(n)\n",
    "    print(list(graph_data))\n"
   ]
  },
  {
   "cell_type": "code",
   "execution_count": null,
   "metadata": {},
   "outputs": [],
   "source": [
    "['5', '10', '2', '2', '3', '1', '2']"
   ]
  }
 ],
 "metadata": {
  "kernelspec": {
   "display_name": "Python 3",
   "language": "python",
   "name": "python3"
  },
  "language_info": {
   "codemirror_mode": {
    "name": "ipython",
    "version": 3
   },
   "file_extension": ".py",
   "mimetype": "text/x-python",
   "name": "python",
   "nbconvert_exporter": "python",
   "pygments_lexer": "ipython3",
   "version": "3.6.6"
  }
 },
 "nbformat": 4,
 "nbformat_minor": 2
}
